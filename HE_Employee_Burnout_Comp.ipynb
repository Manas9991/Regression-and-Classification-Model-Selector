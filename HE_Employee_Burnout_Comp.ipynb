{
  "nbformat": 4,
  "nbformat_minor": 0,
  "metadata": {
    "colab": {
      "name": "HE Employee Burnout Comp.ipynb",
      "provenance": [],
      "collapsed_sections": [
        "3lt2CN-hWqzn",
        "IpbEOuohOsUC",
        "HmVojICKjGNS",
        "XOp0ku1_I-0G",
        "t7rST91h3yqB",
        "_jyAQVOO9AsJ",
        "UpysMW70sa-L"
      ],
      "authorship_tag": "ABX9TyPAUOH0NMAw6kklApsv8Rwn",
      "include_colab_link": true
    },
    "kernelspec": {
      "name": "python3",
      "display_name": "Python 3"
    }
  },
  "cells": [
    {
      "cell_type": "markdown",
      "metadata": {
        "id": "view-in-github",
        "colab_type": "text"
      },
      "source": [
        "<a href=\"https://colab.research.google.com/github/Manas9991/Regression-and-Classification-Model-Selector/blob/master/HE_Employee_Burnout_Comp.ipynb\" target=\"_parent\"><img src=\"https://colab.research.google.com/assets/colab-badge.svg\" alt=\"Open In Colab\"/></a>"
      ]
    },
    {
      "cell_type": "markdown",
      "metadata": {
        "id": "3lt2CN-hWqzn"
      },
      "source": [
        "###Importing Libraries and Data:"
      ]
    },
    {
      "cell_type": "code",
      "metadata": {
        "id": "8qTEDPbuTfrk"
      },
      "source": [
        "import matplotlib.pyplot as plt\n",
        "%matplotlib inline\n",
        "import seaborn as sns\n",
        "import numpy as np\n",
        "from scipy.stats import mode\n",
        "import pandas as pd\n",
        "from sklearn.model_selection import train_test_split\n",
        "from sklearn.preprocessing import StandardScaler\n",
        "from sklearn.decomposition import PCA\n",
        "from sklearn.linear_model import LogisticRegression\n",
        "from sklearn.linear_model import LinearRegression\n",
        "import xgboost as xgb\n",
        "from sklearn.ensemble import AdaBoostRegressor\n",
        "from sklearn.linear_model import Lasso\n",
        "from sklearn.linear_model import ElasticNetCV\n",
        "from sklearn.linear_model import Ridge\n",
        "from sklearn.linear_model import RidgeCV\n",
        "from sklearn.linear_model import SGDRegressor\n",
        "from sklearn.linear_model import ARDRegression\n",
        "from sklearn.linear_model import HuberRegressor\n",
        "from sklearn.linear_model import TheilSenRegressor\n",
        "from sklearn.model_selection import GridSearchCV\n",
        "from sklearn.neural_network import MLPRegressor\n",
        "from sklearn.metrics import mean_squared_error, r2_score, mean_absolute_error, max_error\n",
        "from scipy.stats import zscore"
      ],
      "execution_count": 1,
      "outputs": []
    },
    {
      "cell_type": "code",
      "metadata": {
        "id": "Npuh0XJIOsT8"
      },
      "source": [
        "dfr = pd.read_csv(r'train.csv')\n",
        "dfs = pd.read_csv(r'test.csv')"
      ],
      "execution_count": 2,
      "outputs": []
    },
    {
      "cell_type": "markdown",
      "metadata": {
        "id": "IpbEOuohOsUC"
      },
      "source": [
        "### Setting up the Data"
      ]
    },
    {
      "cell_type": "code",
      "metadata": {
        "id": "BBLlqOgkOsUD",
        "colab": {
          "base_uri": "https://localhost:8080/",
          "height": 359
        },
        "outputId": "421d8bad-ee4a-4823-e943-30db11cceb9e"
      },
      "source": [
        "dfr.head(10)"
      ],
      "execution_count": 3,
      "outputs": [
        {
          "output_type": "execute_result",
          "data": {
            "text/html": [
              "<div>\n",
              "<style scoped>\n",
              "    .dataframe tbody tr th:only-of-type {\n",
              "        vertical-align: middle;\n",
              "    }\n",
              "\n",
              "    .dataframe tbody tr th {\n",
              "        vertical-align: top;\n",
              "    }\n",
              "\n",
              "    .dataframe thead th {\n",
              "        text-align: right;\n",
              "    }\n",
              "</style>\n",
              "<table border=\"1\" class=\"dataframe\">\n",
              "  <thead>\n",
              "    <tr style=\"text-align: right;\">\n",
              "      <th></th>\n",
              "      <th>Employee ID</th>\n",
              "      <th>Date of Joining</th>\n",
              "      <th>Gender</th>\n",
              "      <th>Company Type</th>\n",
              "      <th>WFH Setup Available</th>\n",
              "      <th>Designation</th>\n",
              "      <th>Resource Allocation</th>\n",
              "      <th>Mental Fatigue Score</th>\n",
              "      <th>Burn Rate</th>\n",
              "    </tr>\n",
              "  </thead>\n",
              "  <tbody>\n",
              "    <tr>\n",
              "      <th>0</th>\n",
              "      <td>fffe32003000360033003200</td>\n",
              "      <td>2008-09-30</td>\n",
              "      <td>Female</td>\n",
              "      <td>Service</td>\n",
              "      <td>No</td>\n",
              "      <td>2.0</td>\n",
              "      <td>3.0</td>\n",
              "      <td>3.8</td>\n",
              "      <td>0.16</td>\n",
              "    </tr>\n",
              "    <tr>\n",
              "      <th>1</th>\n",
              "      <td>fffe3700360033003500</td>\n",
              "      <td>2008-11-30</td>\n",
              "      <td>Male</td>\n",
              "      <td>Service</td>\n",
              "      <td>Yes</td>\n",
              "      <td>1.0</td>\n",
              "      <td>2.0</td>\n",
              "      <td>5.0</td>\n",
              "      <td>0.36</td>\n",
              "    </tr>\n",
              "    <tr>\n",
              "      <th>2</th>\n",
              "      <td>fffe31003300320037003900</td>\n",
              "      <td>2008-03-10</td>\n",
              "      <td>Female</td>\n",
              "      <td>Product</td>\n",
              "      <td>Yes</td>\n",
              "      <td>2.0</td>\n",
              "      <td>NaN</td>\n",
              "      <td>5.8</td>\n",
              "      <td>0.49</td>\n",
              "    </tr>\n",
              "    <tr>\n",
              "      <th>3</th>\n",
              "      <td>fffe32003400380032003900</td>\n",
              "      <td>2008-11-03</td>\n",
              "      <td>Male</td>\n",
              "      <td>Service</td>\n",
              "      <td>Yes</td>\n",
              "      <td>1.0</td>\n",
              "      <td>1.0</td>\n",
              "      <td>2.6</td>\n",
              "      <td>0.20</td>\n",
              "    </tr>\n",
              "    <tr>\n",
              "      <th>4</th>\n",
              "      <td>fffe31003900340031003600</td>\n",
              "      <td>2008-07-24</td>\n",
              "      <td>Female</td>\n",
              "      <td>Service</td>\n",
              "      <td>No</td>\n",
              "      <td>3.0</td>\n",
              "      <td>7.0</td>\n",
              "      <td>6.9</td>\n",
              "      <td>0.52</td>\n",
              "    </tr>\n",
              "    <tr>\n",
              "      <th>5</th>\n",
              "      <td>fffe3300350037003500</td>\n",
              "      <td>2008-11-26</td>\n",
              "      <td>Male</td>\n",
              "      <td>Product</td>\n",
              "      <td>Yes</td>\n",
              "      <td>2.0</td>\n",
              "      <td>4.0</td>\n",
              "      <td>3.6</td>\n",
              "      <td>0.29</td>\n",
              "    </tr>\n",
              "    <tr>\n",
              "      <th>6</th>\n",
              "      <td>fffe33003300340039003100</td>\n",
              "      <td>2008-01-02</td>\n",
              "      <td>Female</td>\n",
              "      <td>Service</td>\n",
              "      <td>No</td>\n",
              "      <td>3.0</td>\n",
              "      <td>6.0</td>\n",
              "      <td>7.9</td>\n",
              "      <td>0.62</td>\n",
              "    </tr>\n",
              "    <tr>\n",
              "      <th>7</th>\n",
              "      <td>fffe32003600320037003400</td>\n",
              "      <td>2008-10-31</td>\n",
              "      <td>Female</td>\n",
              "      <td>Service</td>\n",
              "      <td>Yes</td>\n",
              "      <td>2.0</td>\n",
              "      <td>4.0</td>\n",
              "      <td>4.4</td>\n",
              "      <td>0.33</td>\n",
              "    </tr>\n",
              "    <tr>\n",
              "      <th>8</th>\n",
              "      <td>fffe32003200300034003700</td>\n",
              "      <td>2008-12-27</td>\n",
              "      <td>Female</td>\n",
              "      <td>Service</td>\n",
              "      <td>No</td>\n",
              "      <td>3.0</td>\n",
              "      <td>6.0</td>\n",
              "      <td>NaN</td>\n",
              "      <td>0.56</td>\n",
              "    </tr>\n",
              "    <tr>\n",
              "      <th>9</th>\n",
              "      <td>fffe31003600320030003200</td>\n",
              "      <td>2008-03-09</td>\n",
              "      <td>Female</td>\n",
              "      <td>Product</td>\n",
              "      <td>No</td>\n",
              "      <td>3.0</td>\n",
              "      <td>6.0</td>\n",
              "      <td>NaN</td>\n",
              "      <td>0.67</td>\n",
              "    </tr>\n",
              "  </tbody>\n",
              "</table>\n",
              "</div>"
            ],
            "text/plain": [
              "                Employee ID Date of Joining  ... Mental Fatigue Score Burn Rate\n",
              "0  fffe32003000360033003200      2008-09-30  ...                  3.8      0.16\n",
              "1      fffe3700360033003500      2008-11-30  ...                  5.0      0.36\n",
              "2  fffe31003300320037003900      2008-03-10  ...                  5.8      0.49\n",
              "3  fffe32003400380032003900      2008-11-03  ...                  2.6      0.20\n",
              "4  fffe31003900340031003600      2008-07-24  ...                  6.9      0.52\n",
              "5      fffe3300350037003500      2008-11-26  ...                  3.6      0.29\n",
              "6  fffe33003300340039003100      2008-01-02  ...                  7.9      0.62\n",
              "7  fffe32003600320037003400      2008-10-31  ...                  4.4      0.33\n",
              "8  fffe32003200300034003700      2008-12-27  ...                  NaN      0.56\n",
              "9  fffe31003600320030003200      2008-03-09  ...                  NaN      0.67\n",
              "\n",
              "[10 rows x 9 columns]"
            ]
          },
          "metadata": {
            "tags": []
          },
          "execution_count": 3
        }
      ]
    },
    {
      "cell_type": "code",
      "metadata": {
        "id": "-z2w6dRoDpbe",
        "colab": {
          "base_uri": "https://localhost:8080/",
          "height": 204
        },
        "outputId": "cc244302-6304-4eee-f6b2-91b8ce02cdc2"
      },
      "source": [
        "dfs.tail()"
      ],
      "execution_count": 4,
      "outputs": [
        {
          "output_type": "execute_result",
          "data": {
            "text/html": [
              "<div>\n",
              "<style scoped>\n",
              "    .dataframe tbody tr th:only-of-type {\n",
              "        vertical-align: middle;\n",
              "    }\n",
              "\n",
              "    .dataframe tbody tr th {\n",
              "        vertical-align: top;\n",
              "    }\n",
              "\n",
              "    .dataframe thead th {\n",
              "        text-align: right;\n",
              "    }\n",
              "</style>\n",
              "<table border=\"1\" class=\"dataframe\">\n",
              "  <thead>\n",
              "    <tr style=\"text-align: right;\">\n",
              "      <th></th>\n",
              "      <th>Employee ID</th>\n",
              "      <th>Date of Joining</th>\n",
              "      <th>Gender</th>\n",
              "      <th>Company Type</th>\n",
              "      <th>WFH Setup Available</th>\n",
              "      <th>Designation</th>\n",
              "      <th>Resource Allocation</th>\n",
              "      <th>Mental Fatigue Score</th>\n",
              "    </tr>\n",
              "  </thead>\n",
              "  <tbody>\n",
              "    <tr>\n",
              "      <th>12245</th>\n",
              "      <td>fffe3900310034003700</td>\n",
              "      <td>2008-10-02</td>\n",
              "      <td>Female</td>\n",
              "      <td>Service</td>\n",
              "      <td>Yes</td>\n",
              "      <td>1.0</td>\n",
              "      <td>2.0</td>\n",
              "      <td>6.1</td>\n",
              "    </tr>\n",
              "    <tr>\n",
              "      <th>12246</th>\n",
              "      <td>fffe32003600330034003000</td>\n",
              "      <td>2008-03-31</td>\n",
              "      <td>Female</td>\n",
              "      <td>Product</td>\n",
              "      <td>Yes</td>\n",
              "      <td>2.0</td>\n",
              "      <td>4.0</td>\n",
              "      <td>5.9</td>\n",
              "    </tr>\n",
              "    <tr>\n",
              "      <th>12247</th>\n",
              "      <td>fffe31003800340039003000</td>\n",
              "      <td>2008-02-12</td>\n",
              "      <td>Male</td>\n",
              "      <td>Service</td>\n",
              "      <td>No</td>\n",
              "      <td>4.0</td>\n",
              "      <td>7.0</td>\n",
              "      <td>9.6</td>\n",
              "    </tr>\n",
              "    <tr>\n",
              "      <th>12248</th>\n",
              "      <td>fffe32003600380031003800</td>\n",
              "      <td>2008-02-06</td>\n",
              "      <td>Male</td>\n",
              "      <td>Service</td>\n",
              "      <td>No</td>\n",
              "      <td>3.0</td>\n",
              "      <td>6.0</td>\n",
              "      <td>6.7</td>\n",
              "    </tr>\n",
              "    <tr>\n",
              "      <th>12249</th>\n",
              "      <td>fffe32003100390037003800</td>\n",
              "      <td>2008-08-05</td>\n",
              "      <td>Female</td>\n",
              "      <td>Product</td>\n",
              "      <td>No</td>\n",
              "      <td>2.0</td>\n",
              "      <td>2.0</td>\n",
              "      <td>2.0</td>\n",
              "    </tr>\n",
              "  </tbody>\n",
              "</table>\n",
              "</div>"
            ],
            "text/plain": [
              "                    Employee ID  ... Mental Fatigue Score\n",
              "12245      fffe3900310034003700  ...                  6.1\n",
              "12246  fffe32003600330034003000  ...                  5.9\n",
              "12247  fffe31003800340039003000  ...                  9.6\n",
              "12248  fffe32003600380031003800  ...                  6.7\n",
              "12249  fffe32003100390037003800  ...                  2.0\n",
              "\n",
              "[5 rows x 8 columns]"
            ]
          },
          "metadata": {
            "tags": []
          },
          "execution_count": 4
        }
      ]
    },
    {
      "cell_type": "code",
      "metadata": {
        "id": "JcNeLUyRTLZN"
      },
      "source": [
        "# plt.figure(figsize=(8, 10))\n",
        "# plt.scatter(range(len(dfr['Mental Fatigue Score'])), dfr['Mental Fatigue Score'], color='red')\n",
        "# plt.show()"
      ],
      "execution_count": 5,
      "outputs": []
    },
    {
      "cell_type": "code",
      "metadata": {
        "id": "UOL6zN2kdJH-",
        "colab": {
          "base_uri": "https://localhost:8080/"
        },
        "outputId": "f6631034-d68a-4854-bde6-272831fb8c5f"
      },
      "source": [
        "dfr['Company Type'].value_counts()"
      ],
      "execution_count": 6,
      "outputs": [
        {
          "output_type": "execute_result",
          "data": {
            "text/plain": [
              "Service    14833\n",
              "Product     7917\n",
              "Name: Company Type, dtype: int64"
            ]
          },
          "metadata": {
            "tags": []
          },
          "execution_count": 6
        }
      ]
    },
    {
      "cell_type": "code",
      "metadata": {
        "id": "Uojythq-dP1P"
      },
      "source": [
        "dfr['Gender'] = dfr['Gender'].apply(lambda x: 0 if x=='Female' else 1)\n",
        "dfs['Gender'] = dfs['Gender'].apply(lambda x: 0 if x=='Female' else 1)\n",
        "dfr['Company Type'] = dfr['Company Type'].apply(lambda x: 0 if x=='Service' else 1)\n",
        "dfs['Company Type'] = dfs['Company Type'].apply(lambda x: 0 if x=='Service' else 1)\n",
        "dfr['WFH Setup Available'] = dfr['WFH Setup Available'].apply(lambda x: 0 if x=='No' else 1)\n",
        "dfs['WFH Setup Available'] = dfs['WFH Setup Available'].apply(lambda x: 0 if x=='No' else 1)\n",
        "id = dfs['Employee ID']\n",
        "dfr = dfr.drop(columns=['Employee ID'])\n",
        "dfs = dfs.drop(columns=['Employee ID'])"
      ],
      "execution_count": 7,
      "outputs": []
    },
    {
      "cell_type": "code",
      "metadata": {
        "id": "qskqPDoleQ5X"
      },
      "source": [
        "dfr[['Day of joining', 'Month of joining', 'Year of joining']] = dfr['Date of Joining'].str.split('-', expand = True)\n",
        "# for i in dfr.index:\n",
        "#   if (int(dfr['Day of joining'].loc[i]) > 15):\n",
        "#     value = dfr.loc[i, 'Month of joining']\n",
        "#     value = int(value)\n",
        "#     value += 1\n",
        "#     if (value < 10):\n",
        "#       value = str(0)+str(value)\n",
        "#     else:\n",
        "#       value = str(value)\n",
        "#     dfr.at[i, 'Month of joining'] = value\n",
        "dfr = dfr.drop(columns = ['Year of joining', 'Day of joining', 'Date of Joining'])\n",
        "dfs[['Day of joining', 'Month of joining', 'Year of joining']] = dfs['Date of Joining'].str.split('-', expand = True)\n",
        "# for i in dfs.index:\n",
        "#   if (int(dfs['Day of joining'].loc[i]) > 15):\n",
        "#     value = dfs.loc[i, 'Month of joining']\n",
        "#     value = int(value)\n",
        "#     value += 1\n",
        "#     if (value < 10):\n",
        "#       value = str(0)+str(value)\n",
        "#     else:\n",
        "#       value = str(value)\n",
        "#     dfs.at[i, 'Month of joining'] = value\n",
        "dfs = dfs.drop(columns = ['Year of joining', 'Day of joining', 'Date of Joining'])"
      ],
      "execution_count": 8,
      "outputs": []
    },
    {
      "cell_type": "code",
      "metadata": {
        "id": "xA3G3dMhgJU9",
        "colab": {
          "base_uri": "https://localhost:8080/",
          "height": 204
        },
        "outputId": "a9cb5c7c-6be5-487b-8fae-af7ec5673d0b"
      },
      "source": [
        "dfr.head()"
      ],
      "execution_count": 9,
      "outputs": [
        {
          "output_type": "execute_result",
          "data": {
            "text/html": [
              "<div>\n",
              "<style scoped>\n",
              "    .dataframe tbody tr th:only-of-type {\n",
              "        vertical-align: middle;\n",
              "    }\n",
              "\n",
              "    .dataframe tbody tr th {\n",
              "        vertical-align: top;\n",
              "    }\n",
              "\n",
              "    .dataframe thead th {\n",
              "        text-align: right;\n",
              "    }\n",
              "</style>\n",
              "<table border=\"1\" class=\"dataframe\">\n",
              "  <thead>\n",
              "    <tr style=\"text-align: right;\">\n",
              "      <th></th>\n",
              "      <th>Gender</th>\n",
              "      <th>Company Type</th>\n",
              "      <th>WFH Setup Available</th>\n",
              "      <th>Designation</th>\n",
              "      <th>Resource Allocation</th>\n",
              "      <th>Mental Fatigue Score</th>\n",
              "      <th>Burn Rate</th>\n",
              "      <th>Month of joining</th>\n",
              "    </tr>\n",
              "  </thead>\n",
              "  <tbody>\n",
              "    <tr>\n",
              "      <th>0</th>\n",
              "      <td>0</td>\n",
              "      <td>0</td>\n",
              "      <td>0</td>\n",
              "      <td>2.0</td>\n",
              "      <td>3.0</td>\n",
              "      <td>3.8</td>\n",
              "      <td>0.16</td>\n",
              "      <td>09</td>\n",
              "    </tr>\n",
              "    <tr>\n",
              "      <th>1</th>\n",
              "      <td>1</td>\n",
              "      <td>0</td>\n",
              "      <td>1</td>\n",
              "      <td>1.0</td>\n",
              "      <td>2.0</td>\n",
              "      <td>5.0</td>\n",
              "      <td>0.36</td>\n",
              "      <td>11</td>\n",
              "    </tr>\n",
              "    <tr>\n",
              "      <th>2</th>\n",
              "      <td>0</td>\n",
              "      <td>1</td>\n",
              "      <td>1</td>\n",
              "      <td>2.0</td>\n",
              "      <td>NaN</td>\n",
              "      <td>5.8</td>\n",
              "      <td>0.49</td>\n",
              "      <td>03</td>\n",
              "    </tr>\n",
              "    <tr>\n",
              "      <th>3</th>\n",
              "      <td>1</td>\n",
              "      <td>0</td>\n",
              "      <td>1</td>\n",
              "      <td>1.0</td>\n",
              "      <td>1.0</td>\n",
              "      <td>2.6</td>\n",
              "      <td>0.20</td>\n",
              "      <td>11</td>\n",
              "    </tr>\n",
              "    <tr>\n",
              "      <th>4</th>\n",
              "      <td>0</td>\n",
              "      <td>0</td>\n",
              "      <td>0</td>\n",
              "      <td>3.0</td>\n",
              "      <td>7.0</td>\n",
              "      <td>6.9</td>\n",
              "      <td>0.52</td>\n",
              "      <td>07</td>\n",
              "    </tr>\n",
              "  </tbody>\n",
              "</table>\n",
              "</div>"
            ],
            "text/plain": [
              "   Gender  Company Type  ...  Burn Rate  Month of joining\n",
              "0       0             0  ...       0.16                09\n",
              "1       1             0  ...       0.36                11\n",
              "2       0             1  ...       0.49                03\n",
              "3       1             0  ...       0.20                11\n",
              "4       0             0  ...       0.52                07\n",
              "\n",
              "[5 rows x 8 columns]"
            ]
          },
          "metadata": {
            "tags": []
          },
          "execution_count": 9
        }
      ]
    },
    {
      "cell_type": "code",
      "metadata": {
        "id": "QVc5lzH5h2TS",
        "colab": {
          "base_uri": "https://localhost:8080/"
        },
        "outputId": "968d6b4f-c15f-4b6d-889a-24b2f374c6a0"
      },
      "source": [
        "dfr['Month of joining'].value_counts()"
      ],
      "execution_count": 10,
      "outputs": [
        {
          "output_type": "execute_result",
          "data": {
            "text/plain": [
              "08    1972\n",
              "10    1970\n",
              "09    1968\n",
              "03    1947\n",
              "07    1911\n",
              "01    1903\n",
              "05    1900\n",
              "04    1861\n",
              "12    1844\n",
              "11    1841\n",
              "02    1832\n",
              "06    1801\n",
              "Name: Month of joining, dtype: int64"
            ]
          },
          "metadata": {
            "tags": []
          },
          "execution_count": 10
        }
      ]
    },
    {
      "cell_type": "code",
      "metadata": {
        "id": "Ty4k90HKh_35",
        "colab": {
          "base_uri": "https://localhost:8080/"
        },
        "outputId": "593d454a-ca95-4d32-aed6-a1273407864d"
      },
      "source": [
        "dfr['Designation'].value_counts()"
      ],
      "execution_count": 11,
      "outputs": [
        {
          "output_type": "execute_result",
          "data": {
            "text/plain": [
              "2.0    7588\n",
              "3.0    5985\n",
              "1.0    4881\n",
              "4.0    2391\n",
              "0.0    1507\n",
              "5.0     398\n",
              "Name: Designation, dtype: int64"
            ]
          },
          "metadata": {
            "tags": []
          },
          "execution_count": 11
        }
      ]
    },
    {
      "cell_type": "markdown",
      "metadata": {
        "id": "HmVojICKjGNS"
      },
      "source": [
        "###Missing values treatment"
      ]
    },
    {
      "cell_type": "code",
      "metadata": {
        "id": "u1pw4DbujDwZ",
        "colab": {
          "base_uri": "https://localhost:8080/",
          "height": 297
        },
        "outputId": "5ff5a111-41d3-456f-971b-0ac55494fea8"
      },
      "source": [
        "dfr.describe()"
      ],
      "execution_count": 12,
      "outputs": [
        {
          "output_type": "execute_result",
          "data": {
            "text/html": [
              "<div>\n",
              "<style scoped>\n",
              "    .dataframe tbody tr th:only-of-type {\n",
              "        vertical-align: middle;\n",
              "    }\n",
              "\n",
              "    .dataframe tbody tr th {\n",
              "        vertical-align: top;\n",
              "    }\n",
              "\n",
              "    .dataframe thead th {\n",
              "        text-align: right;\n",
              "    }\n",
              "</style>\n",
              "<table border=\"1\" class=\"dataframe\">\n",
              "  <thead>\n",
              "    <tr style=\"text-align: right;\">\n",
              "      <th></th>\n",
              "      <th>Gender</th>\n",
              "      <th>Company Type</th>\n",
              "      <th>WFH Setup Available</th>\n",
              "      <th>Designation</th>\n",
              "      <th>Resource Allocation</th>\n",
              "      <th>Mental Fatigue Score</th>\n",
              "      <th>Burn Rate</th>\n",
              "    </tr>\n",
              "  </thead>\n",
              "  <tbody>\n",
              "    <tr>\n",
              "      <th>count</th>\n",
              "      <td>22750.000000</td>\n",
              "      <td>22750.000000</td>\n",
              "      <td>22750.000000</td>\n",
              "      <td>22750.000000</td>\n",
              "      <td>21369.000000</td>\n",
              "      <td>20633.000000</td>\n",
              "      <td>21626.000000</td>\n",
              "    </tr>\n",
              "    <tr>\n",
              "      <th>mean</th>\n",
              "      <td>0.476571</td>\n",
              "      <td>0.348000</td>\n",
              "      <td>0.540220</td>\n",
              "      <td>2.178725</td>\n",
              "      <td>4.481398</td>\n",
              "      <td>5.728188</td>\n",
              "      <td>0.452005</td>\n",
              "    </tr>\n",
              "    <tr>\n",
              "      <th>std</th>\n",
              "      <td>0.499462</td>\n",
              "      <td>0.476346</td>\n",
              "      <td>0.498391</td>\n",
              "      <td>1.135145</td>\n",
              "      <td>2.047211</td>\n",
              "      <td>1.920839</td>\n",
              "      <td>0.198226</td>\n",
              "    </tr>\n",
              "    <tr>\n",
              "      <th>min</th>\n",
              "      <td>0.000000</td>\n",
              "      <td>0.000000</td>\n",
              "      <td>0.000000</td>\n",
              "      <td>0.000000</td>\n",
              "      <td>1.000000</td>\n",
              "      <td>0.000000</td>\n",
              "      <td>0.000000</td>\n",
              "    </tr>\n",
              "    <tr>\n",
              "      <th>25%</th>\n",
              "      <td>0.000000</td>\n",
              "      <td>0.000000</td>\n",
              "      <td>0.000000</td>\n",
              "      <td>1.000000</td>\n",
              "      <td>3.000000</td>\n",
              "      <td>4.600000</td>\n",
              "      <td>0.310000</td>\n",
              "    </tr>\n",
              "    <tr>\n",
              "      <th>50%</th>\n",
              "      <td>0.000000</td>\n",
              "      <td>0.000000</td>\n",
              "      <td>1.000000</td>\n",
              "      <td>2.000000</td>\n",
              "      <td>4.000000</td>\n",
              "      <td>5.900000</td>\n",
              "      <td>0.450000</td>\n",
              "    </tr>\n",
              "    <tr>\n",
              "      <th>75%</th>\n",
              "      <td>1.000000</td>\n",
              "      <td>1.000000</td>\n",
              "      <td>1.000000</td>\n",
              "      <td>3.000000</td>\n",
              "      <td>6.000000</td>\n",
              "      <td>7.100000</td>\n",
              "      <td>0.590000</td>\n",
              "    </tr>\n",
              "    <tr>\n",
              "      <th>max</th>\n",
              "      <td>1.000000</td>\n",
              "      <td>1.000000</td>\n",
              "      <td>1.000000</td>\n",
              "      <td>5.000000</td>\n",
              "      <td>10.000000</td>\n",
              "      <td>10.000000</td>\n",
              "      <td>1.000000</td>\n",
              "    </tr>\n",
              "  </tbody>\n",
              "</table>\n",
              "</div>"
            ],
            "text/plain": [
              "             Gender  Company Type  ...  Mental Fatigue Score     Burn Rate\n",
              "count  22750.000000  22750.000000  ...          20633.000000  21626.000000\n",
              "mean       0.476571      0.348000  ...              5.728188      0.452005\n",
              "std        0.499462      0.476346  ...              1.920839      0.198226\n",
              "min        0.000000      0.000000  ...              0.000000      0.000000\n",
              "25%        0.000000      0.000000  ...              4.600000      0.310000\n",
              "50%        0.000000      0.000000  ...              5.900000      0.450000\n",
              "75%        1.000000      1.000000  ...              7.100000      0.590000\n",
              "max        1.000000      1.000000  ...             10.000000      1.000000\n",
              "\n",
              "[8 rows x 7 columns]"
            ]
          },
          "metadata": {
            "tags": []
          },
          "execution_count": 12
        }
      ]
    },
    {
      "cell_type": "code",
      "metadata": {
        "id": "sQ0-8PgyjlhG",
        "colab": {
          "base_uri": "https://localhost:8080/",
          "height": 297
        },
        "outputId": "2e26940a-0a93-4227-848a-87e43627132e"
      },
      "source": [
        "dfs.describe()"
      ],
      "execution_count": 13,
      "outputs": [
        {
          "output_type": "execute_result",
          "data": {
            "text/html": [
              "<div>\n",
              "<style scoped>\n",
              "    .dataframe tbody tr th:only-of-type {\n",
              "        vertical-align: middle;\n",
              "    }\n",
              "\n",
              "    .dataframe tbody tr th {\n",
              "        vertical-align: top;\n",
              "    }\n",
              "\n",
              "    .dataframe thead th {\n",
              "        text-align: right;\n",
              "    }\n",
              "</style>\n",
              "<table border=\"1\" class=\"dataframe\">\n",
              "  <thead>\n",
              "    <tr style=\"text-align: right;\">\n",
              "      <th></th>\n",
              "      <th>Gender</th>\n",
              "      <th>Company Type</th>\n",
              "      <th>WFH Setup Available</th>\n",
              "      <th>Designation</th>\n",
              "      <th>Resource Allocation</th>\n",
              "      <th>Mental Fatigue Score</th>\n",
              "    </tr>\n",
              "  </thead>\n",
              "  <tbody>\n",
              "    <tr>\n",
              "      <th>count</th>\n",
              "      <td>12250.000000</td>\n",
              "      <td>12250.000000</td>\n",
              "      <td>12250.000000</td>\n",
              "      <td>12250.000000</td>\n",
              "      <td>12250.000000</td>\n",
              "      <td>12250.000000</td>\n",
              "    </tr>\n",
              "    <tr>\n",
              "      <th>mean</th>\n",
              "      <td>0.473878</td>\n",
              "      <td>0.346612</td>\n",
              "      <td>0.541878</td>\n",
              "      <td>2.175265</td>\n",
              "      <td>4.458857</td>\n",
              "      <td>5.720571</td>\n",
              "    </tr>\n",
              "    <tr>\n",
              "      <th>std</th>\n",
              "      <td>0.499338</td>\n",
              "      <td>0.475910</td>\n",
              "      <td>0.498264</td>\n",
              "      <td>1.132885</td>\n",
              "      <td>2.045602</td>\n",
              "      <td>1.914063</td>\n",
              "    </tr>\n",
              "    <tr>\n",
              "      <th>min</th>\n",
              "      <td>0.000000</td>\n",
              "      <td>0.000000</td>\n",
              "      <td>0.000000</td>\n",
              "      <td>0.000000</td>\n",
              "      <td>1.000000</td>\n",
              "      <td>0.000000</td>\n",
              "    </tr>\n",
              "    <tr>\n",
              "      <th>25%</th>\n",
              "      <td>0.000000</td>\n",
              "      <td>0.000000</td>\n",
              "      <td>0.000000</td>\n",
              "      <td>1.000000</td>\n",
              "      <td>3.000000</td>\n",
              "      <td>4.500000</td>\n",
              "    </tr>\n",
              "    <tr>\n",
              "      <th>50%</th>\n",
              "      <td>0.000000</td>\n",
              "      <td>0.000000</td>\n",
              "      <td>1.000000</td>\n",
              "      <td>2.000000</td>\n",
              "      <td>4.000000</td>\n",
              "      <td>5.900000</td>\n",
              "    </tr>\n",
              "    <tr>\n",
              "      <th>75%</th>\n",
              "      <td>1.000000</td>\n",
              "      <td>1.000000</td>\n",
              "      <td>1.000000</td>\n",
              "      <td>3.000000</td>\n",
              "      <td>6.000000</td>\n",
              "      <td>7.100000</td>\n",
              "    </tr>\n",
              "    <tr>\n",
              "      <th>max</th>\n",
              "      <td>1.000000</td>\n",
              "      <td>1.000000</td>\n",
              "      <td>1.000000</td>\n",
              "      <td>5.000000</td>\n",
              "      <td>10.000000</td>\n",
              "      <td>10.000000</td>\n",
              "    </tr>\n",
              "  </tbody>\n",
              "</table>\n",
              "</div>"
            ],
            "text/plain": [
              "             Gender  Company Type  ...  Resource Allocation  Mental Fatigue Score\n",
              "count  12250.000000  12250.000000  ...         12250.000000          12250.000000\n",
              "mean       0.473878      0.346612  ...             4.458857              5.720571\n",
              "std        0.499338      0.475910  ...             2.045602              1.914063\n",
              "min        0.000000      0.000000  ...             1.000000              0.000000\n",
              "25%        0.000000      0.000000  ...             3.000000              4.500000\n",
              "50%        0.000000      0.000000  ...             4.000000              5.900000\n",
              "75%        1.000000      1.000000  ...             6.000000              7.100000\n",
              "max        1.000000      1.000000  ...            10.000000             10.000000\n",
              "\n",
              "[8 rows x 6 columns]"
            ]
          },
          "metadata": {
            "tags": []
          },
          "execution_count": 13
        }
      ]
    },
    {
      "cell_type": "code",
      "metadata": {
        "id": "FezoRZrV4BWx",
        "colab": {
          "base_uri": "https://localhost:8080/",
          "height": 364
        },
        "outputId": "27a88c0a-4825-4316-9526-e41cd636a617"
      },
      "source": [
        "corrMatrix = dfr.corr()\n",
        "corrMatrix = corrMatrix.apply(lambda x: abs(x))\n",
        "sns.heatmap(corrMatrix, annot=True)\n",
        "plt.show()"
      ],
      "execution_count": 14,
      "outputs": [
        {
          "output_type": "display_data",
          "data": {
            "image/png": "[encoded data removed]",
            "text/plain": [
              "<Figure size 432x288 with 2 Axes>"
            ]
          },
          "metadata": {
            "tags": [],
            "needs_background": "light"
          }
        }
      ]
    },
    {
      "cell_type": "markdown",
      "metadata": {
        "id": "YV2oY-qml_DM"
      },
      "source": [
        "Method #1: Listwise Deletion"
      ]
    },
    {
      "cell_type": "code",
      "metadata": {
        "id": "Xc_qjUewjnFZ",
        "colab": {
          "base_uri": "https://localhost:8080/",
          "height": 297
        },
        "outputId": "d8695108-d91c-4511-fe0e-72d33f47ccfe"
      },
      "source": [
        "dfr.dropna(inplace=True)\n",
        "dfr.describe()"
      ],
      "execution_count": 15,
      "outputs": [
        {
          "output_type": "execute_result",
          "data": {
            "text/html": [
              "<div>\n",
              "<style scoped>\n",
              "    .dataframe tbody tr th:only-of-type {\n",
              "        vertical-align: middle;\n",
              "    }\n",
              "\n",
              "    .dataframe tbody tr th {\n",
              "        vertical-align: top;\n",
              "    }\n",
              "\n",
              "    .dataframe thead th {\n",
              "        text-align: right;\n",
              "    }\n",
              "</style>\n",
              "<table border=\"1\" class=\"dataframe\">\n",
              "  <thead>\n",
              "    <tr style=\"text-align: right;\">\n",
              "      <th></th>\n",
              "      <th>Gender</th>\n",
              "      <th>Company Type</th>\n",
              "      <th>WFH Setup Available</th>\n",
              "      <th>Designation</th>\n",
              "      <th>Resource Allocation</th>\n",
              "      <th>Mental Fatigue Score</th>\n",
              "      <th>Burn Rate</th>\n",
              "    </tr>\n",
              "  </thead>\n",
              "  <tbody>\n",
              "    <tr>\n",
              "      <th>count</th>\n",
              "      <td>18590.000000</td>\n",
              "      <td>18590.000000</td>\n",
              "      <td>18590.000000</td>\n",
              "      <td>18590.000000</td>\n",
              "      <td>18590.000000</td>\n",
              "      <td>18590.000000</td>\n",
              "      <td>18590.000000</td>\n",
              "    </tr>\n",
              "    <tr>\n",
              "      <th>mean</th>\n",
              "      <td>0.475686</td>\n",
              "      <td>0.345132</td>\n",
              "      <td>0.539537</td>\n",
              "      <td>2.179398</td>\n",
              "      <td>4.486552</td>\n",
              "      <td>5.732173</td>\n",
              "      <td>0.452444</td>\n",
              "    </tr>\n",
              "    <tr>\n",
              "      <th>std</th>\n",
              "      <td>0.499422</td>\n",
              "      <td>0.475424</td>\n",
              "      <td>0.498448</td>\n",
              "      <td>1.133148</td>\n",
              "      <td>2.044848</td>\n",
              "      <td>1.920547</td>\n",
              "      <td>0.197848</td>\n",
              "    </tr>\n",
              "    <tr>\n",
              "      <th>min</th>\n",
              "      <td>0.000000</td>\n",
              "      <td>0.000000</td>\n",
              "      <td>0.000000</td>\n",
              "      <td>0.000000</td>\n",
              "      <td>1.000000</td>\n",
              "      <td>0.000000</td>\n",
              "      <td>0.000000</td>\n",
              "    </tr>\n",
              "    <tr>\n",
              "      <th>25%</th>\n",
              "      <td>0.000000</td>\n",
              "      <td>0.000000</td>\n",
              "      <td>0.000000</td>\n",
              "      <td>1.000000</td>\n",
              "      <td>3.000000</td>\n",
              "      <td>4.600000</td>\n",
              "      <td>0.320000</td>\n",
              "    </tr>\n",
              "    <tr>\n",
              "      <th>50%</th>\n",
              "      <td>0.000000</td>\n",
              "      <td>0.000000</td>\n",
              "      <td>1.000000</td>\n",
              "      <td>2.000000</td>\n",
              "      <td>4.000000</td>\n",
              "      <td>5.900000</td>\n",
              "      <td>0.450000</td>\n",
              "    </tr>\n",
              "    <tr>\n",
              "      <th>75%</th>\n",
              "      <td>1.000000</td>\n",
              "      <td>1.000000</td>\n",
              "      <td>1.000000</td>\n",
              "      <td>3.000000</td>\n",
              "      <td>6.000000</td>\n",
              "      <td>7.100000</td>\n",
              "      <td>0.590000</td>\n",
              "    </tr>\n",
              "    <tr>\n",
              "      <th>max</th>\n",
              "      <td>1.000000</td>\n",
              "      <td>1.000000</td>\n",
              "      <td>1.000000</td>\n",
              "      <td>5.000000</td>\n",
              "      <td>10.000000</td>\n",
              "      <td>10.000000</td>\n",
              "      <td>1.000000</td>\n",
              "    </tr>\n",
              "  </tbody>\n",
              "</table>\n",
              "</div>"
            ],
            "text/plain": [
              "             Gender  Company Type  ...  Mental Fatigue Score     Burn Rate\n",
              "count  18590.000000  18590.000000  ...          18590.000000  18590.000000\n",
              "mean       0.475686      0.345132  ...              5.732173      0.452444\n",
              "std        0.499422      0.475424  ...              1.920547      0.197848\n",
              "min        0.000000      0.000000  ...              0.000000      0.000000\n",
              "25%        0.000000      0.000000  ...              4.600000      0.320000\n",
              "50%        0.000000      0.000000  ...              5.900000      0.450000\n",
              "75%        1.000000      1.000000  ...              7.100000      0.590000\n",
              "max        1.000000      1.000000  ...             10.000000      1.000000\n",
              "\n",
              "[8 rows x 7 columns]"
            ]
          },
          "metadata": {
            "tags": []
          },
          "execution_count": 15
        }
      ]
    },
    {
      "cell_type": "markdown",
      "metadata": {
        "id": "Q6yQaCO2mFLH"
      },
      "source": [
        "Method #2: Mean or Null Substitution"
      ]
    },
    {
      "cell_type": "code",
      "metadata": {
        "id": "9nYFZJOemE3Q"
      },
      "source": [
        "# nan_col = ['Resource Allocation',\t'Mental Fatigue Score',\t'Burn Rate']\n",
        "# for i in nan_col:\n",
        "#   dfr[i] = dfr[i].fillna(np.mean(dfr[i]))#(0)\n",
        "# dfr.describe()  "
      ],
      "execution_count": 16,
      "outputs": []
    },
    {
      "cell_type": "markdown",
      "metadata": {
        "id": "lqQPA-Kh3EJN"
      },
      "source": [
        "Method #3: Regression Imputation"
      ]
    },
    {
      "cell_type": "code",
      "metadata": {
        "id": "fAcsvrGJ3Osg"
      },
      "source": [
        "# nan_col = ['Resource Allocation',\t'Mental Fatigue Score',\t'Burn Rate']\n",
        "# traindat = dfr.dropna() #Create a dataset to train the model\n",
        "# filler = ElasticNetCV(l1_ratio=0.5, eps=0.001, n_alphas=100, fit_intercept=True, normalize=True, max_iter=10000)\n",
        "# for i in nan_col:\n",
        "#   yy = traindat[i]\n",
        "#   if (i=='Resource Allocation'): #Filling these values using designation, as covariance is high\n",
        "#     xx = traindat[['Designation']] \n",
        "#     filler.fit(xx, yy) #model has been trained\n",
        "#     nully = dfr[i].isnull() #a boolean array which will store True if corresponding ResAlloc value is null\n",
        "#     for j in dfr.index: #using model to fill each missing value\n",
        "#       if (nully[j] == True): #if missing value is detected in ResAlloc\n",
        "#         #update missing value using corresponding designation value in LR model\n",
        "#         dfr.at[j, i] = filler.predict(dfr['Designation'].loc[j].reshape(1, -1))\n",
        "#   elif (i=='Mental Fatigue Score'):\n",
        "#     xx = traindat[['Resource Allocation']] \n",
        "#     filler.fit(xx, yy) \n",
        "#     nully = dfr[i].isnull()\n",
        "#     for j in dfr.index:\n",
        "#       if (nully[j] == True): \n",
        "#         dfr.at[j, i] = filler.predict(dfr['Resource Allocation'].loc[j].reshape(1, -1))\n",
        "#   else:\n",
        "#     xx = traindat[['Mental Fatigue Score']]\n",
        "#     filler.fit(xx, yy) \n",
        "#     nully = dfr[i].isnull() \n",
        "#     for j in dfr.index: \n",
        "#       if (nully[j] == True):\n",
        "#         dfr.at[j, i] = filler.predict(dfr['Mental Fatigue Score'].loc[j].reshape(1, -1))\n",
        "# dfr.describe()"
      ],
      "execution_count": 17,
      "outputs": []
    },
    {
      "cell_type": "markdown",
      "metadata": {
        "id": "FFhpnyFM3Pyg"
      },
      "source": [
        "Method #4: CarryForward Last Value"
      ]
    },
    {
      "cell_type": "code",
      "metadata": {
        "id": "_TdQs5sN3TDL"
      },
      "source": [
        "# nan_col = ['Resource Allocation',\t'Mental Fatigue Score',\t'Burn Rate']\n",
        "# for i in nan_col:\n",
        "#   nully = dfr[i].isnull() #a boolean array which will store True if corresponding value is null\n",
        "#   for j in dfr.index: #fill each missing value\n",
        "#     if (nully[j] == True): \n",
        "#       dfr.at[j, i] = dfr.at[j-1, i]\n",
        "# dfr.describe()"
      ],
      "execution_count": 18,
      "outputs": []
    },
    {
      "cell_type": "markdown",
      "metadata": {
        "id": "XOp0ku1_I-0G"
      },
      "source": [
        "###Outlier Treatment:"
      ]
    },
    {
      "cell_type": "code",
      "metadata": {
        "colab": {
          "base_uri": "https://localhost:8080/",
          "height": 279
        },
        "id": "Sz4cHR-gMVNQ",
        "outputId": "e7bb694e-035c-4f42-92a1-5f640c395540"
      },
      "source": [
        "ax = sns.boxplot(x=\"Designation\", y=\"Resource Allocation\", data=dfr)"
      ],
      "execution_count": 19,
      "outputs": [
        {
          "output_type": "display_data",
          "data": {
            "image/png": "[encoded data removed]",
            "text/plain": [
              "<Figure size 432x288 with 1 Axes>"
            ]
          },
          "metadata": {
            "tags": [],
            "needs_background": "light"
          }
        }
      ]
    },
    {
      "cell_type": "markdown",
      "metadata": {
        "id": "-sjlSuF18Lz2"
      },
      "source": [
        "for each different value of designation,\n",
        "store zscore of resource values in that designation\n",
        "create a filter to remove rows which have outliers\n",
        "iterate thorugh whole dataframe\n",
        "if designation value is what we are working on\n",
        "if zscore is not maximum i.e., value if not a outlier\n",
        "then do not remove it"
      ]
    },
    {
      "cell_type": "code",
      "metadata": {
        "id": "-_8rlj8jk60P"
      },
      "source": [
        "# # for i in dfr['Designation'].unique():\n",
        "# for i in [0, 1, 3, 4]:\n",
        "#   # a = list(np.abs(zscore(dfr['Resource Allocation'][dfr['Designation']==i]))) #excludes lower outliers\n",
        "#   a = list(zscore(dfr['Resource Allocation'][dfr['Designation']==i]))\n",
        "#   # print(\"Initial\", max(a))\n",
        "#   filtr = []\n",
        "#   count = 0\n",
        "#   arr = list(dfr['Resource Allocation'].where(dfr['Designation'] == i).notna()) #boolean array, true if designation is desired value\n",
        "#   for j in range(len(dfr)):\n",
        "#     if (arr[j]):\n",
        "#       if ((a[count] != max(a)) and (a[count] != min(a))):\n",
        "#         filtr.append(False)\n",
        "#         count += 1 \n",
        "#       else:\n",
        "#         filtr.append(True)\n",
        "#         count += 1\n",
        "#     else:\n",
        "#       filtr.append(False)\n",
        "#   index_names = dfr[filtr].index\n",
        "#   dfr.drop(index_names, inplace=True)\n",
        "#   #verification:\n",
        "#   a = np.abs(zscore(dfr['Resource Allocation'][dfr['Designation']==i]))\n",
        "#   # print(\"Final\", max(a))\n",
        "#   print(\"Length of DataFrame\", len(dfr))"
      ],
      "execution_count": 20,
      "outputs": []
    },
    {
      "cell_type": "code",
      "metadata": {
        "colab": {
          "base_uri": "https://localhost:8080/",
          "height": 279
        },
        "id": "4dG0gH0QJnmC",
        "outputId": "3e76f6e1-d9cd-45de-e136-18da18694456"
      },
      "source": [
        "ax = sns.boxplot(x=\"Designation\", y=\"Mental Fatigue Score\", data=dfr)"
      ],
      "execution_count": 21,
      "outputs": [
        {
          "output_type": "display_data",
          "data": {
            "image/png": "[encoded data removed]",
            "text/plain": [
              "<Figure size 432x288 with 1 Axes>"
            ]
          },
          "metadata": {
            "tags": [],
            "needs_background": "light"
          }
        }
      ]
    },
    {
      "cell_type": "code",
      "metadata": {
        "id": "FqmM2wojr_cQ"
      },
      "source": [
        "# for i in [1, 2]:\n",
        "#   # a = list(np.abs(zscore(dfr['Mental Fatigue Score'][dfr['Designation']==i])))\n",
        "#   a = list(zscore(dfr['Mental Fatigue Score'][dfr['Designation']==i]))\n",
        "#   # print(\"Initial\", max(a))\n",
        "#   filtr = []\n",
        "#   count = 0\n",
        "#   arr = list(dfr['Mental Fatigue Score'].where(dfr['Designation'] == i).notna()) #boolean array, true if designation is desired value\n",
        "#   for j in range(len(dfr)):\n",
        "#     if (arr[j]):\n",
        "#       if ((a[count] != max(a)) and (a[count] != min(a))):\n",
        "#         filtr.append(False)\n",
        "#         count += 1 \n",
        "#       else:\n",
        "#         filtr.append(True)\n",
        "#         count += 1\n",
        "#     else:\n",
        "#       filtr.append(False)\n",
        "#   index_names = dfr[filtr].index\n",
        "#   dfr.drop(index_names, inplace=True)\n",
        "#   #verification:\n",
        "#   a = np.abs(zscore(dfr['Mental Fatigue Score'][dfr['Designation']==i]))\n",
        "#   # print(\"Final\", max(a))\n",
        "#   print(\"Length of DataFrame\", len(dfr))"
      ],
      "execution_count": 22,
      "outputs": []
    },
    {
      "cell_type": "code",
      "metadata": {
        "colab": {
          "base_uri": "https://localhost:8080/",
          "height": 279
        },
        "id": "PuQNjJfhMnXN",
        "outputId": "a2ab078f-0388-4810-e0e9-1336f867450f"
      },
      "source": [
        "ax = sns.boxplot(x=\"Resource Allocation\", y=\"Mental Fatigue Score\", data=dfr)"
      ],
      "execution_count": 23,
      "outputs": [
        {
          "output_type": "display_data",
          "data": {
            "image/png": "[encoded data removed]",
            "text/plain": [
              "<Figure size 432x288 with 1 Axes>"
            ]
          },
          "metadata": {
            "tags": [],
            "needs_background": "light"
          }
        }
      ]
    },
    {
      "cell_type": "markdown",
      "metadata": {
        "id": "M2uMCml3L5mq"
      },
      "source": [
        "For each value of resource allocation, remove the rows with outliers in fatigue score"
      ]
    },
    {
      "cell_type": "code",
      "metadata": {
        "id": "x8qGO8HT_fqa"
      },
      "source": [
        "# for i in [2, 3, 4, 6, 8]:\n",
        "#   # a = list(np.abs(zscore(dfr['Mental Fatigue Score'][dfr['Resource Allocation']==i])))\n",
        "#   a = list(zscore(dfr['Mental Fatigue Score'][dfr['Resource Allocation']==i]))\n",
        "#   # print(\"Initial\", max(a))\n",
        "#   filtr = []\n",
        "#   count = 0\n",
        "#   arr = list(dfr['Mental Fatigue Score'].where(dfr['Resource Allocation'] == i).notna()) #boolean array, true if designation is desired value\n",
        "#   for j in range(len(dfr)):\n",
        "#     if (arr[j]):\n",
        "#       if ((a[count] != max(a)) and (a[count] != min(a))):\n",
        "#         filtr.append(False)\n",
        "#         count += 1 \n",
        "#       else:\n",
        "#         filtr.append(True)\n",
        "#         count += 1\n",
        "#     else:\n",
        "#       filtr.append(False)\n",
        "#   index_names = dfr[filtr].index\n",
        "#   dfr.drop(index_names, inplace=True)\n",
        "#   #verification:\n",
        "#   a = np.abs(zscore(dfr['Mental Fatigue Score'][dfr['Resource Allocation']==i]))\n",
        "#   # print(\"Final\", max(a))\n",
        "#   print(\"Length of DataFrame\", len(dfr))"
      ],
      "execution_count": 24,
      "outputs": []
    },
    {
      "cell_type": "code",
      "metadata": {
        "colab": {
          "base_uri": "https://localhost:8080/",
          "height": 279
        },
        "id": "EMaLgWHDL34_",
        "outputId": "80a1036d-c6dd-470c-8280-380a761f0557"
      },
      "source": [
        "ax = sns.boxplot(x=\"Resource Allocation\", y=\"Burn Rate\", data=dfr)"
      ],
      "execution_count": 25,
      "outputs": [
        {
          "output_type": "display_data",
          "data": {
            "image/png": "[encoded data removed]",
            "text/plain": [
              "<Figure size 432x288 with 1 Axes>"
            ]
          },
          "metadata": {
            "tags": [],
            "needs_background": "light"
          }
        }
      ]
    },
    {
      "cell_type": "markdown",
      "metadata": {
        "id": "RBv2UMJcMLP4"
      },
      "source": [
        "Do the same for burn rate"
      ]
    },
    {
      "cell_type": "code",
      "metadata": {
        "colab": {
          "base_uri": "https://localhost:8080/"
        },
        "id": "uzqbfLtXMT99",
        "outputId": "cdd67677-9161-4aae-f0e7-819522a9fd26"
      },
      "source": [
        "for i in [3, 4, 6, 7, 8]:\n",
        "  # a = list(np.abs(zscore(dfr['Burn Rate'][dfr['Resource Allocation']==i])))\n",
        "  a = list(zscore(dfr['Burn Rate'][dfr['Resource Allocation']==i]))\n",
        "  # print(\"Initial\", max(a))\n",
        "  filtr = []\n",
        "  count = 0\n",
        "  arr = list(dfr['Burn Rate'].where(dfr['Resource Allocation'] == i).notna()) #boolean array, true if designation is desired value\n",
        "  for j in range(len(dfr)):\n",
        "    if (arr[j]):\n",
        "      if ((a[count] != max(a)) and (a[count] != min(a))):\n",
        "        filtr.append(False)\n",
        "        count += 1 \n",
        "      else:\n",
        "        filtr.append(True)\n",
        "        count += 1\n",
        "    else:\n",
        "      filtr.append(False)\n",
        "  index_names = dfr[filtr].index\n",
        "  dfr.drop(index_names, inplace=True)\n",
        "  #verification:\n",
        "  a = np.abs(zscore(dfr['Burn Rate'][dfr['Resource Allocation']==i]))\n",
        "  # print(\"Final\", max(a))\n",
        "  print(\"Length of DataFrame\", len(dfr))"
      ],
      "execution_count": 26,
      "outputs": [
        {
          "output_type": "stream",
          "text": [
            "Length of DataFrame 18587\n",
            "Length of DataFrame 18570\n",
            "Length of DataFrame 18560\n",
            "Length of DataFrame 18556\n",
            "Length of DataFrame 18539\n"
          ],
          "name": "stdout"
        }
      ]
    },
    {
      "cell_type": "markdown",
      "metadata": {
        "id": "t7rST91h3yqB"
      },
      "source": [
        "###Feature Engineering"
      ]
    },
    {
      "cell_type": "code",
      "metadata": {
        "id": "2nTYh79bydJs"
      },
      "source": [
        "dfr['F1'] = dfr['Resource Allocation']*dfr['Designation']\n",
        "dfs['F1'] = dfs['Resource Allocation']*dfs['Designation']\n",
        "dfr['F2'] = dfr['Resource Allocation']*dfr['Mental Fatigue Score']\n",
        "dfs['F2'] = dfs['Resource Allocation']*dfs['Mental Fatigue Score']\n",
        "dfr['F3'] = dfr['Resource Allocation'] + 2.25*dfr['Mental Fatigue Score']\n",
        "dfs['F3'] = dfs['Resource Allocation'] + 2.25*dfs['Mental Fatigue Score']"
      ],
      "execution_count": 27,
      "outputs": []
    },
    {
      "cell_type": "code",
      "metadata": {
        "colab": {
          "base_uri": "https://localhost:8080/",
          "height": 364
        },
        "id": "RfQ-i0xzy-K1",
        "outputId": "09bd0879-9548-412b-92eb-9c3bb719b914"
      },
      "source": [
        "corrMatrix = dfr.corr()\n",
        "corrMatrix = corrMatrix.apply(lambda x: abs(x))\n",
        "sns.heatmap(corrMatrix, annot=True)\n",
        "plt.show()"
      ],
      "execution_count": 28,
      "outputs": [
        {
          "output_type": "display_data",
          "data": {
            "image/png": "[encoded data removed]",
            "text/plain": [
              "<Figure size 432x288 with 2 Axes>"
            ]
          },
          "metadata": {
            "tags": [],
            "needs_background": "light"
          }
        }
      ]
    },
    {
      "cell_type": "code",
      "metadata": {
        "id": "Jmi5Ry_539nF",
        "colab": {
          "base_uri": "https://localhost:8080/",
          "height": 204
        },
        "outputId": "c02f5464-fbe7-4405-9873-e53dac01a64a"
      },
      "source": [
        "dfr.head()"
      ],
      "execution_count": 29,
      "outputs": [
        {
          "output_type": "execute_result",
          "data": {
            "text/html": [
              "<div>\n",
              "<style scoped>\n",
              "    .dataframe tbody tr th:only-of-type {\n",
              "        vertical-align: middle;\n",
              "    }\n",
              "\n",
              "    .dataframe tbody tr th {\n",
              "        vertical-align: top;\n",
              "    }\n",
              "\n",
              "    .dataframe thead th {\n",
              "        text-align: right;\n",
              "    }\n",
              "</style>\n",
              "<table border=\"1\" class=\"dataframe\">\n",
              "  <thead>\n",
              "    <tr style=\"text-align: right;\">\n",
              "      <th></th>\n",
              "      <th>Gender</th>\n",
              "      <th>Company Type</th>\n",
              "      <th>WFH Setup Available</th>\n",
              "      <th>Designation</th>\n",
              "      <th>Resource Allocation</th>\n",
              "      <th>Mental Fatigue Score</th>\n",
              "      <th>Burn Rate</th>\n",
              "      <th>Month of joining</th>\n",
              "      <th>F1</th>\n",
              "      <th>F2</th>\n",
              "      <th>F3</th>\n",
              "    </tr>\n",
              "  </thead>\n",
              "  <tbody>\n",
              "    <tr>\n",
              "      <th>0</th>\n",
              "      <td>0</td>\n",
              "      <td>0</td>\n",
              "      <td>0</td>\n",
              "      <td>2.0</td>\n",
              "      <td>3.0</td>\n",
              "      <td>3.8</td>\n",
              "      <td>0.16</td>\n",
              "      <td>09</td>\n",
              "      <td>6.0</td>\n",
              "      <td>11.4</td>\n",
              "      <td>11.550</td>\n",
              "    </tr>\n",
              "    <tr>\n",
              "      <th>1</th>\n",
              "      <td>1</td>\n",
              "      <td>0</td>\n",
              "      <td>1</td>\n",
              "      <td>1.0</td>\n",
              "      <td>2.0</td>\n",
              "      <td>5.0</td>\n",
              "      <td>0.36</td>\n",
              "      <td>11</td>\n",
              "      <td>2.0</td>\n",
              "      <td>10.0</td>\n",
              "      <td>13.250</td>\n",
              "    </tr>\n",
              "    <tr>\n",
              "      <th>3</th>\n",
              "      <td>1</td>\n",
              "      <td>0</td>\n",
              "      <td>1</td>\n",
              "      <td>1.0</td>\n",
              "      <td>1.0</td>\n",
              "      <td>2.6</td>\n",
              "      <td>0.20</td>\n",
              "      <td>11</td>\n",
              "      <td>1.0</td>\n",
              "      <td>2.6</td>\n",
              "      <td>6.850</td>\n",
              "    </tr>\n",
              "    <tr>\n",
              "      <th>4</th>\n",
              "      <td>0</td>\n",
              "      <td>0</td>\n",
              "      <td>0</td>\n",
              "      <td>3.0</td>\n",
              "      <td>7.0</td>\n",
              "      <td>6.9</td>\n",
              "      <td>0.52</td>\n",
              "      <td>07</td>\n",
              "      <td>21.0</td>\n",
              "      <td>48.3</td>\n",
              "      <td>22.525</td>\n",
              "    </tr>\n",
              "    <tr>\n",
              "      <th>5</th>\n",
              "      <td>1</td>\n",
              "      <td>1</td>\n",
              "      <td>1</td>\n",
              "      <td>2.0</td>\n",
              "      <td>4.0</td>\n",
              "      <td>3.6</td>\n",
              "      <td>0.29</td>\n",
              "      <td>11</td>\n",
              "      <td>8.0</td>\n",
              "      <td>14.4</td>\n",
              "      <td>12.100</td>\n",
              "    </tr>\n",
              "  </tbody>\n",
              "</table>\n",
              "</div>"
            ],
            "text/plain": [
              "   Gender  Company Type  WFH Setup Available  ...    F1    F2      F3\n",
              "0       0             0                    0  ...   6.0  11.4  11.550\n",
              "1       1             0                    1  ...   2.0  10.0  13.250\n",
              "3       1             0                    1  ...   1.0   2.6   6.850\n",
              "4       0             0                    0  ...  21.0  48.3  22.525\n",
              "5       1             1                    1  ...   8.0  14.4  12.100\n",
              "\n",
              "[5 rows x 11 columns]"
            ]
          },
          "metadata": {
            "tags": []
          },
          "execution_count": 29
        }
      ]
    },
    {
      "cell_type": "markdown",
      "metadata": {
        "id": "iGDSBKwL4r6R"
      },
      "source": [
        "Company type is not contributing towards the results, also, the gender seems to not be contributing much. [Based on covariance matrix]"
      ]
    },
    {
      "cell_type": "code",
      "metadata": {
        "id": "nUApiaJ54eHE",
        "colab": {
          "base_uri": "https://localhost:8080/",
          "height": 204
        },
        "outputId": "74e738b1-f6bc-4cb7-8130-1e3d4db69db2"
      },
      "source": [
        "dfr.drop(columns=['Company Type'], inplace=True)\n",
        "dfs.drop(columns=['Company Type'], inplace=True)\n",
        "dfr.head()"
      ],
      "execution_count": 30,
      "outputs": [
        {
          "output_type": "execute_result",
          "data": {
            "text/html": [
              "<div>\n",
              "<style scoped>\n",
              "    .dataframe tbody tr th:only-of-type {\n",
              "        vertical-align: middle;\n",
              "    }\n",
              "\n",
              "    .dataframe tbody tr th {\n",
              "        vertical-align: top;\n",
              "    }\n",
              "\n",
              "    .dataframe thead th {\n",
              "        text-align: right;\n",
              "    }\n",
              "</style>\n",
              "<table border=\"1\" class=\"dataframe\">\n",
              "  <thead>\n",
              "    <tr style=\"text-align: right;\">\n",
              "      <th></th>\n",
              "      <th>Gender</th>\n",
              "      <th>WFH Setup Available</th>\n",
              "      <th>Designation</th>\n",
              "      <th>Resource Allocation</th>\n",
              "      <th>Mental Fatigue Score</th>\n",
              "      <th>Burn Rate</th>\n",
              "      <th>Month of joining</th>\n",
              "      <th>F1</th>\n",
              "      <th>F2</th>\n",
              "      <th>F3</th>\n",
              "    </tr>\n",
              "  </thead>\n",
              "  <tbody>\n",
              "    <tr>\n",
              "      <th>0</th>\n",
              "      <td>0</td>\n",
              "      <td>0</td>\n",
              "      <td>2.0</td>\n",
              "      <td>3.0</td>\n",
              "      <td>3.8</td>\n",
              "      <td>0.16</td>\n",
              "      <td>09</td>\n",
              "      <td>6.0</td>\n",
              "      <td>11.4</td>\n",
              "      <td>11.550</td>\n",
              "    </tr>\n",
              "    <tr>\n",
              "      <th>1</th>\n",
              "      <td>1</td>\n",
              "      <td>1</td>\n",
              "      <td>1.0</td>\n",
              "      <td>2.0</td>\n",
              "      <td>5.0</td>\n",
              "      <td>0.36</td>\n",
              "      <td>11</td>\n",
              "      <td>2.0</td>\n",
              "      <td>10.0</td>\n",
              "      <td>13.250</td>\n",
              "    </tr>\n",
              "    <tr>\n",
              "      <th>3</th>\n",
              "      <td>1</td>\n",
              "      <td>1</td>\n",
              "      <td>1.0</td>\n",
              "      <td>1.0</td>\n",
              "      <td>2.6</td>\n",
              "      <td>0.20</td>\n",
              "      <td>11</td>\n",
              "      <td>1.0</td>\n",
              "      <td>2.6</td>\n",
              "      <td>6.850</td>\n",
              "    </tr>\n",
              "    <tr>\n",
              "      <th>4</th>\n",
              "      <td>0</td>\n",
              "      <td>0</td>\n",
              "      <td>3.0</td>\n",
              "      <td>7.0</td>\n",
              "      <td>6.9</td>\n",
              "      <td>0.52</td>\n",
              "      <td>07</td>\n",
              "      <td>21.0</td>\n",
              "      <td>48.3</td>\n",
              "      <td>22.525</td>\n",
              "    </tr>\n",
              "    <tr>\n",
              "      <th>5</th>\n",
              "      <td>1</td>\n",
              "      <td>1</td>\n",
              "      <td>2.0</td>\n",
              "      <td>4.0</td>\n",
              "      <td>3.6</td>\n",
              "      <td>0.29</td>\n",
              "      <td>11</td>\n",
              "      <td>8.0</td>\n",
              "      <td>14.4</td>\n",
              "      <td>12.100</td>\n",
              "    </tr>\n",
              "  </tbody>\n",
              "</table>\n",
              "</div>"
            ],
            "text/plain": [
              "   Gender  WFH Setup Available  Designation  ...    F1    F2      F3\n",
              "0       0                    0          2.0  ...   6.0  11.4  11.550\n",
              "1       1                    1          1.0  ...   2.0  10.0  13.250\n",
              "3       1                    1          1.0  ...   1.0   2.6   6.850\n",
              "4       0                    0          3.0  ...  21.0  48.3  22.525\n",
              "5       1                    1          2.0  ...   8.0  14.4  12.100\n",
              "\n",
              "[5 rows x 10 columns]"
            ]
          },
          "metadata": {
            "tags": []
          },
          "execution_count": 30
        }
      ]
    },
    {
      "cell_type": "markdown",
      "metadata": {
        "id": "j31Y6_Zy5QH5"
      },
      "source": [
        "Applying PCA to check covariance explained with reduced dimensions:"
      ]
    },
    {
      "cell_type": "code",
      "metadata": {
        "id": "i2wlDcRs5uLy"
      },
      "source": [
        "X = dfr.drop(columns=['Burn Rate'])\n",
        "y = dfr['Burn Rate']"
      ],
      "execution_count": 31,
      "outputs": []
    },
    {
      "cell_type": "code",
      "metadata": {
        "id": "uV2vhIBy7cpR"
      },
      "source": [
        "scaler = StandardScaler()\n",
        "X = scaler.fit_transform(X)"
      ],
      "execution_count": 32,
      "outputs": []
    },
    {
      "cell_type": "code",
      "metadata": {
        "id": "538Vzytd5Uqh"
      },
      "source": [
        "# N = 4\n",
        "# pca = PCA(n_components = N)\n",
        "# pca.fit(X)\n",
        "# plt.bar(range(N), pca.explained_variance_ratio_, color = 'orange')\n",
        "# plt.plot(range(N), pca.explained_variance_ratio_, color='black')\n",
        "# plt.show()\n",
        "# print(pca.explained_variance_ratio_)"
      ],
      "execution_count": 33,
      "outputs": []
    },
    {
      "cell_type": "markdown",
      "metadata": {
        "id": "7uiuxijT7NzA"
      },
      "source": [
        "3 Components explain 91.7% variance, thus, reducing dimensions to 3. 4 Components explain 97%"
      ]
    },
    {
      "cell_type": "code",
      "metadata": {
        "id": "mIWACfQp8qq7"
      },
      "source": [
        "# X = pca.transform(X)\n",
        "x = pd.DataFrame(X)"
      ],
      "execution_count": 34,
      "outputs": []
    },
    {
      "cell_type": "markdown",
      "metadata": {
        "id": "_jyAQVOO9AsJ"
      },
      "source": [
        "###Applying Regression Algorithms:"
      ]
    },
    {
      "cell_type": "code",
      "metadata": {
        "id": "UjXPG5xQZmu5"
      },
      "source": [
        "models = ['Linear Regression', 'XgBoost']#, 'Lasso', 'Elastic Net CV', 'Ridge', 'RidgeCV', 'SGDRegressor', 'HuberRegressor', 'TheilSenRegressor','Neural Network']#, 'AdaBoost', 'ARDRegression', 'Polynomial Regression']\n",
        "MSE = []\n",
        "r2 = []\n",
        "MAS = []\n",
        "Maxe = []"
      ],
      "execution_count": 35,
      "outputs": []
    },
    {
      "cell_type": "code",
      "metadata": {
        "id": "Zt4TSUC-NZm1"
      },
      "source": [
        "def evaluate(truth, pred):\n",
        "  MSE.append(mean_squared_error(truth, pred))\n",
        "  r2.append(r2_score(truth, pred))\n",
        "  MAS.append(mean_absolute_error(truth, pred))\n",
        "  Maxe.append(max_error(truth, pred))"
      ],
      "execution_count": 36,
      "outputs": []
    },
    {
      "cell_type": "code",
      "metadata": {
        "id": "XUTGSMKEa9nG"
      },
      "source": [
        "X_train, X_test, y_train, y_test = train_test_split(x, y, train_size = 0.999)"
      ],
      "execution_count": 37,
      "outputs": []
    },
    {
      "cell_type": "code",
      "metadata": {
        "id": "VrcDnnIY2bmf"
      },
      "source": [
        "LR = LinearRegression(normalize=True) #use np.polyfit for polynomial regression\n",
        "LR.fit(X_train, y_train)\n",
        "y_pred = LR.predict(X_test)\n",
        "evaluate(y_test, y_pred)"
      ],
      "execution_count": 38,
      "outputs": []
    },
    {
      "cell_type": "code",
      "metadata": {
        "id": "2EGwvWKFhSj3",
        "colab": {
          "base_uri": "https://localhost:8080/"
        },
        "outputId": "34bcafa8-95da-4b0f-c403-f31931366178"
      },
      "source": [
        "xgb_model = xgb.XGBRegressor(eta=0.001, max_depth = 6, subsample = 1, colsample_bytree = 0.5, objective = 'reg:linear', normalize=True, eval_metric = 'rmse') #Change objective accordingly\n",
        "xgb_model.fit(X_train, y_train)\n",
        "y_pred = xgb_model.predict(X_test)\n",
        "evaluate(y_test, y_pred)"
      ],
      "execution_count": 39,
      "outputs": [
        {
          "output_type": "stream",
          "text": [
            "[10:36:57] WARNING: /workspace/src/objective/regression_obj.cu:152: reg:linear is now deprecated in favor of reg:squarederror.\n"
          ],
          "name": "stdout"
        }
      ]
    },
    {
      "cell_type": "code",
      "metadata": {
        "id": "t97tzseynCES"
      },
      "source": [
        "# lasso = Lasso(random_state=0, max_iter=10000)\n",
        "# alphas = np.logspace(-4, -0.5, 30)\n",
        "\n",
        "# tuned_parameters = [{'alpha': alphas}]\n",
        "# n_folds = 10\n",
        "\n",
        "# clf = GridSearchCV(lasso, tuned_parameters, cv=n_folds, n_jobs=1, scoring='neg_mean_squared_error')\n",
        "# clf.fit(x, y)\n",
        "# scores = clf.cv_results_['mean_test_score']\n",
        "# MSE.append(-1*max(scores))\n",
        "# r2.append(-1*max(scores))\n",
        "# MAS.append(-1*max(scores))\n",
        "# Maxe.append(-1*max(scores))"
      ],
      "execution_count": 40,
      "outputs": []
    },
    {
      "cell_type": "code",
      "metadata": {
        "id": "VqyYxS8VCKzs"
      },
      "source": [
        "# ENcv = ElasticNetCV(l1_ratio=0.5, eps=0.001, n_alphas=100, fit_intercept=True, normalize=True, max_iter=10000)\n",
        "# ENcv.fit(X_train, y_train)\n",
        "# y_pred = ENcv.predict(X_test)\n",
        "# evaluate(y_test, y_pred)"
      ],
      "execution_count": 41,
      "outputs": []
    },
    {
      "cell_type": "code",
      "metadata": {
        "id": "cCiVPeeNDj2p"
      },
      "source": [
        "# r = Ridge(normalize=True)\n",
        "# r.fit(X_train, y_train)\n",
        "# y_pred = r.predict(X_test)\n",
        "# evaluate(y_test, y_pred)"
      ],
      "execution_count": 42,
      "outputs": []
    },
    {
      "cell_type": "code",
      "metadata": {
        "id": "itfFJYYuEUBH"
      },
      "source": [
        "# rCV = RidgeCV(normalize=True)\n",
        "# rCV.fit(X_train, y_train)\n",
        "# y_pred = rCV.predict(X_test)\n",
        "# evaluate(y_test, y_pred)"
      ],
      "execution_count": 43,
      "outputs": []
    },
    {
      "cell_type": "code",
      "metadata": {
        "id": "JdOHvMM9Eo09"
      },
      "source": [
        "# sgdr = SGDRegressor(loss='squared_loss') #The possible values are ‘squared_loss’, ‘huber’, ‘epsilon_insensitive’, or ‘squared_epsilon_insensitive’\n",
        "# sgdr.fit(X_train, y_train)\n",
        "# y_pred = sgdr.predict(X_test)\n",
        "# evaluate(y_test, y_pred)"
      ],
      "execution_count": 44,
      "outputs": []
    },
    {
      "cell_type": "code",
      "metadata": {
        "id": "EGkWxTw6GKQm"
      },
      "source": [
        "# hub = HuberRegressor(epsilon = 1.1, max_iter = 800)  #Epsilon min = 1, default = 1.35. The smaller the epsilon, the more robust it is to outliers.\n",
        "# hub.fit(X_train, y_train)\n",
        "# y_pred = hub.predict(X_test)\n",
        "# evaluate(y_test, y_pred)"
      ],
      "execution_count": 45,
      "outputs": []
    },
    {
      "cell_type": "code",
      "metadata": {
        "id": "giirdxpiG84h"
      },
      "source": [
        "# theil = TheilSenRegressor()\n",
        "# theil.fit(X_train, y_train)\n",
        "# y_pred = theil.predict(X_test)\n",
        "# evaluate(y_test, y_pred)"
      ],
      "execution_count": 46,
      "outputs": []
    },
    {
      "cell_type": "code",
      "metadata": {
        "id": "GO17Ql8kejmv"
      },
      "source": [
        "# NN = MLPRegressor(hidden_layer_sizes=(8, 4, 1), activation='logistic', solver='adam', \n",
        "#                    alpha=0.0001, batch_size='auto', learning_rate='adaptive', \n",
        "#                    learning_rate_init=0.001, power_t=0.5, max_iter=10000, \n",
        "#                    shuffle=True, random_state=0, tol=0.00001, verbose=False, warm_start=False, \n",
        "#                    momentum=0.9, nesterovs_momentum=True, early_stopping=True, \n",
        "#                    validation_fraction=0.2, beta_1=0.9, beta_2=0.999, \n",
        "#                    epsilon=1e-08, n_iter_no_change=10, max_fun=15000)\n",
        "# NN.fit(X_train, y_train)\n",
        "# y_pred = NN.predict(X_test)\n",
        "# evaluate(y_test, y_pred)"
      ],
      "execution_count": 47,
      "outputs": []
    },
    {
      "cell_type": "code",
      "metadata": {
        "id": "51hFHk24kx32"
      },
      "source": [
        "# param_dist = {\n",
        "#  'n_estimators': [50, 100, 200],\n",
        "#  'learning_rate' : [0.001,0.05,0.1],\n",
        "#  'loss' : ['linear', 'square', 'exponential']\n",
        "#  }\n",
        "\n",
        "# abr = GridSearchCV(AdaBoostRegressor(), param_dist, cv=5, n_jobs=1, scoring='r2')\n",
        "# abr.fit(x, y)\n",
        "# MSE.append(-1*max(abr.cv_results_['mean_test_score']))\n",
        "# r2.append(-1*max(abr.cv_results_['mean_test_score']))\n",
        "# MAS.append(-1*max(abr.cv_results_['mean_test_score']))\n",
        "# Maxe.append(-1*max(abr.cv_results_['mean_test_score']))"
      ],
      "execution_count": 48,
      "outputs": []
    },
    {
      "cell_type": "code",
      "metadata": {
        "id": "QTyTErMFF_9L"
      },
      "source": [
        "# #Takes a long time to run - WARNING\n",
        "# ardr = ARDRegression(n_iter = 5, normalize=True)\n",
        "# ardr.fit(X_train, y_train)\n",
        "# y_pred = ardr.predict(X_test)\n",
        "# evaluate(y_test, y_pred)"
      ],
      "execution_count": 49,
      "outputs": []
    },
    {
      "cell_type": "code",
      "metadata": {
        "id": "50Ihp81qBfdP"
      },
      "source": [
        "# d = 1 #set degree of curve fitting\n",
        "# coef = np.polyfit(X_train[:,0], y_train, d) #select column with maximum correlation for best results\n",
        "# def curvefit(x):\n",
        "#   y = 0\n",
        "#   for j in range(d):\n",
        "#     y += (x**(d-j))*coef[j] #find pattern and put in loop\n",
        "#   return y\n",
        "\n",
        "# y_pred = [curvefit(int(i)) for i in X_test[:,0]]\n",
        "# evaluate(y_test, y_pred)"
      ],
      "execution_count": 50,
      "outputs": []
    },
    {
      "cell_type": "markdown",
      "metadata": {
        "id": "UpysMW70sa-L"
      },
      "source": [
        "###Performance metrics"
      ]
    },
    {
      "cell_type": "code",
      "metadata": {
        "id": "9IBvXsb5nyit",
        "colab": {
          "base_uri": "https://localhost:8080/",
          "height": 111
        },
        "outputId": "218771d1-33f2-4615-bb59-c39d3aae5d08"
      },
      "source": [
        "Final = {'Model': models, 'Mean Square Error': MSE, 'R2 score': r2, 'Mean Absolute Error' : MAS, 'Max Error': Maxe}\n",
        "Final = pd.DataFrame(data=Final)\n",
        "Final"
      ],
      "execution_count": 51,
      "outputs": [
        {
          "output_type": "execute_result",
          "data": {
            "text/html": [
              "<div>\n",
              "<style scoped>\n",
              "    .dataframe tbody tr th:only-of-type {\n",
              "        vertical-align: middle;\n",
              "    }\n",
              "\n",
              "    .dataframe tbody tr th {\n",
              "        vertical-align: top;\n",
              "    }\n",
              "\n",
              "    .dataframe thead th {\n",
              "        text-align: right;\n",
              "    }\n",
              "</style>\n",
              "<table border=\"1\" class=\"dataframe\">\n",
              "  <thead>\n",
              "    <tr style=\"text-align: right;\">\n",
              "      <th></th>\n",
              "      <th>Model</th>\n",
              "      <th>Mean Square Error</th>\n",
              "      <th>R2 score</th>\n",
              "      <th>Mean Absolute Error</th>\n",
              "      <th>Max Error</th>\n",
              "    </tr>\n",
              "  </thead>\n",
              "  <tbody>\n",
              "    <tr>\n",
              "      <th>0</th>\n",
              "      <td>Linear Regression</td>\n",
              "      <td>0.002782</td>\n",
              "      <td>0.952448</td>\n",
              "      <td>0.043039</td>\n",
              "      <td>0.112580</td>\n",
              "    </tr>\n",
              "    <tr>\n",
              "      <th>1</th>\n",
              "      <td>XgBoost</td>\n",
              "      <td>0.002825</td>\n",
              "      <td>0.951705</td>\n",
              "      <td>0.045292</td>\n",
              "      <td>0.097515</td>\n",
              "    </tr>\n",
              "  </tbody>\n",
              "</table>\n",
              "</div>"
            ],
            "text/plain": [
              "               Model  Mean Square Error  ...  Mean Absolute Error  Max Error\n",
              "0  Linear Regression           0.002782  ...             0.043039   0.112580\n",
              "1            XgBoost           0.002825  ...             0.045292   0.097515\n",
              "\n",
              "[2 rows x 5 columns]"
            ]
          },
          "metadata": {
            "tags": []
          },
          "execution_count": 51
        }
      ]
    },
    {
      "cell_type": "markdown",
      "metadata": {
        "id": "Hdl1nYVcMXq8"
      },
      "source": [
        "###Final Submission:"
      ]
    },
    {
      "cell_type": "code",
      "metadata": {
        "id": "gFSFiGxBMaS2"
      },
      "source": [
        "dfs = scaler.fit_transform(dfs)\n",
        "# dfs = pca.fit_transform(dfs)\n",
        "dfs = pd.DataFrame(dfs)\n",
        "ansy = xgb_model.predict(dfs) #Remember to train on 100% data before submission\n",
        "ide = []\n",
        "ansye = []\n",
        "for i in range(len(ansy)+1):\n",
        "  if(i == 0):\n",
        "    ide.append(\"Employee ID\")\n",
        "    ansye.append(\"Burn Rate\")\n",
        "  else:\n",
        "    ide.append(id[i-1])\n",
        "    ansye.append(ansy[i-1])\n",
        "\n",
        "np.savetxt(\"Pred xgb.csv\", list(zip(ide, ansye)), delimiter=\",\", fmt='%s')"
      ],
      "execution_count": 52,
      "outputs": []
    }
  ]
}